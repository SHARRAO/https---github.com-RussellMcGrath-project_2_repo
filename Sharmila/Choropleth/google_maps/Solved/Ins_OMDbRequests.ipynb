{
 "cells": [
  {
   "cell_type": "code",
   "execution_count": 26,
   "metadata": {},
   "outputs": [],
   "source": [
    "import requests\n",
    "import json\n",
    "from config import api_key"
   ]
  },
  {
   "cell_type": "code",
   "execution_count": 27,
   "metadata": {},
   "outputs": [],
   "source": [
    "# New Dependency! Use this to pretty print the JSON\n",
    "# https://docs.python.org/3/library/pprint.html\n",
    "from pprint import pprint"
   ]
  },
  {
   "cell_type": "code",
   "execution_count": 28,
   "metadata": {},
   "outputs": [],
   "source": [
    "# Note that the ?t= is a query param for the t-itle of the\n",
    "# movie we want to search for.\n",
    "url = \"https://maps.googleapis.com/maps/api/geocode/json?latlng=32.869166666667,-98.045\"\n",
    "api_key = \"&key=\" + api_key"
   ]
  },
  {
   "cell_type": "code",
   "execution_count": 29,
   "metadata": {},
   "outputs": [],
   "source": [
    "# Performing a GET request similar to the one we executed\n",
    "# earlier\n",
    "response = requests.get(url + api_key)"
   ]
  },
  {
   "cell_type": "code",
   "execution_count": 30,
   "metadata": {},
   "outputs": [
    {
     "name": "stdout",
     "output_type": "stream",
     "text": [
      "{'plus_code': {'compound_code': 'VX93+MX Mineral Wells, TX, USA',\n",
      "               'global_code': '8643VX93+MX'},\n",
      " 'results': [{'address_components': [{'long_name': '3 Access Road',\n",
      "                                      'short_name': '3 Access Rd',\n",
      "                                      'types': ['route']},\n",
      "                                     {'long_name': 'Mineral Wells',\n",
      "                                      'short_name': 'Mineral Wells',\n",
      "                                      'types': ['locality', 'political']},\n",
      "                                     {'long_name': 'Parker County',\n",
      "                                      'short_name': 'Parker County',\n",
      "                                      'types': ['administrative_area_level_2',\n",
      "                                                'political']},\n",
      "                                     {'long_name': 'Texas',\n",
      "                                      'short_name': 'TX',\n",
      "                                      'types': ['administrative_area_level_1',\n",
      "                                                'political']},\n",
      "                                     {'long_name': 'United States',\n",
      "                                      'short_name': 'US',\n",
      "                                      'types': ['country', 'political']},\n",
      "                                     {'long_name': '76067',\n",
      "                                      'short_name': '76067',\n",
      "                                      'types': ['postal_code']}],\n",
      "              'formatted_address': '3 Access Rd, Mineral Wells, TX 76067, USA',\n",
      "              'geometry': {'bounds': {'northeast': {'lat': 32.8691766,\n",
      "                                                    'lng': -98.0420894},\n",
      "                                      'southwest': {'lat': 32.8686042,\n",
      "                                                    'lng': -98.045057}},\n",
      "                           'location': {'lat': 32.8690021,\n",
      "                                        'lng': -98.04354239999999},\n",
      "                           'location_type': 'GEOMETRIC_CENTER',\n",
      "                           'viewport': {'northeast': {'lat': 32.87023938029149,\n",
      "                                                      'lng': -98.0420894},\n",
      "                                        'southwest': {'lat': 32.86754141970849,\n",
      "                                                      'lng': -98.045057}}},\n",
      "              'place_id': 'ChIJZ1KkTCocUoYRrL4QR7nd_gM',\n",
      "              'types': ['route']},\n",
      "             {'address_components': [{'long_name': '76067',\n",
      "                                      'short_name': '76067',\n",
      "                                      'types': ['postal_code']},\n",
      "                                     {'long_name': 'Mineral Wells',\n",
      "                                      'short_name': 'Mineral Wells',\n",
      "                                      'types': ['locality', 'political']},\n",
      "                                     {'long_name': 'Texas',\n",
      "                                      'short_name': 'TX',\n",
      "                                      'types': ['administrative_area_level_1',\n",
      "                                                'political']},\n",
      "                                     {'long_name': 'United States',\n",
      "                                      'short_name': 'US',\n",
      "                                      'types': ['country', 'political']}],\n",
      "              'formatted_address': 'Mineral Wells, TX 76067, USA',\n",
      "              'geometry': {'bounds': {'northeast': {'lat': 32.9512759,\n",
      "                                                    'lng': -98.005094},\n",
      "                                      'southwest': {'lat': 32.6630639,\n",
      "                                                    'lng': -98.358195}},\n",
      "                           'location': {'lat': 32.8084298,\n",
      "                                        'lng': -98.11289629999999},\n",
      "                           'location_type': 'APPROXIMATE',\n",
      "                           'viewport': {'northeast': {'lat': 32.9512759,\n",
      "                                                      'lng': -98.005094},\n",
      "                                        'southwest': {'lat': 32.6630639,\n",
      "                                                      'lng': -98.358195}}},\n",
      "              'place_id': 'ChIJhXcJmHCJUYYR3eR_D26Yoko',\n",
      "              'types': ['postal_code']},\n",
      "             {'address_components': [{'long_name': 'Parker County',\n",
      "                                      'short_name': 'Parker County',\n",
      "                                      'types': ['administrative_area_level_2',\n",
      "                                                'political']},\n",
      "                                     {'long_name': 'Texas',\n",
      "                                      'short_name': 'TX',\n",
      "                                      'types': ['administrative_area_level_1',\n",
      "                                                'political']},\n",
      "                                     {'long_name': 'United States',\n",
      "                                      'short_name': 'US',\n",
      "                                      'types': ['country', 'political']}],\n",
      "              'formatted_address': 'Parker County, TX, USA',\n",
      "              'geometry': {'bounds': {'northeast': {'lat': 33.003332,\n",
      "                                                    'lng': -97.544169},\n",
      "                                      'southwest': {'lat': 32.555297,\n",
      "                                                    'lng': -98.0668359}},\n",
      "                           'location': {'lat': 32.7415519, 'lng': -97.87216},\n",
      "                           'location_type': 'APPROXIMATE',\n",
      "                           'viewport': {'northeast': {'lat': 33.003332,\n",
      "                                                      'lng': -97.544169},\n",
      "                                        'southwest': {'lat': 32.555297,\n",
      "                                                      'lng': -98.0668359}}},\n",
      "              'place_id': 'ChIJ88tervv-UYYRn4Tn5biyzs4',\n",
      "              'types': ['administrative_area_level_2', 'political']},\n",
      "             {'address_components': [{'long_name': 'Texas',\n",
      "                                      'short_name': 'TX',\n",
      "                                      'types': ['administrative_area_level_1',\n",
      "                                                'political']},\n",
      "                                     {'long_name': 'United States',\n",
      "                                      'short_name': 'US',\n",
      "                                      'types': ['country', 'political']}],\n",
      "              'formatted_address': 'Texas, USA',\n",
      "              'geometry': {'bounds': {'northeast': {'lat': 36.5007041,\n",
      "                                                    'lng': -93.5080389},\n",
      "                                      'southwest': {'lat': 25.8371638,\n",
      "                                                    'lng': -106.6456461}},\n",
      "                           'location': {'lat': 31.9685988, 'lng': -99.9018131},\n",
      "                           'location_type': 'APPROXIMATE',\n",
      "                           'viewport': {'northeast': {'lat': 36.5007041,\n",
      "                                                      'lng': -93.5080389},\n",
      "                                        'southwest': {'lat': 25.8371638,\n",
      "                                                      'lng': -106.6456461}}},\n",
      "              'place_id': 'ChIJSTKCCzZwQIYRPN4IGI8c6xY',\n",
      "              'types': ['administrative_area_level_1', 'political']},\n",
      "             {'address_components': [{'long_name': 'United States',\n",
      "                                      'short_name': 'US',\n",
      "                                      'types': ['country', 'political']}],\n",
      "              'formatted_address': 'United States',\n",
      "              'geometry': {'bounds': {'northeast': {'lat': 71.5388001,\n",
      "                                                    'lng': -66.885417},\n",
      "                                      'southwest': {'lat': 18.7763,\n",
      "                                                    'lng': 170.5957}},\n",
      "                           'location': {'lat': 37.09024, 'lng': -95.712891},\n",
      "                           'location_type': 'APPROXIMATE',\n",
      "                           'viewport': {'northeast': {'lat': 71.5388001,\n",
      "                                                      'lng': -66.885417},\n",
      "                                        'southwest': {'lat': 18.7763,\n",
      "                                                      'lng': 170.5957}}},\n",
      "              'place_id': 'ChIJCzYy5IS16lQRQrfeQ5K5Oxw',\n",
      "              'types': ['country', 'political']},\n",
      "             {'address_components': [{'long_name': 'VX93+MX',\n",
      "                                      'short_name': 'VX93+MX',\n",
      "                                      'types': ['plus_code']},\n",
      "                                     {'long_name': 'Mineral Wells',\n",
      "                                      'short_name': 'Mineral Wells',\n",
      "                                      'types': ['locality', 'political']},\n",
      "                                     {'long_name': 'Palo Pinto County',\n",
      "                                      'short_name': 'Palo Pinto County',\n",
      "                                      'types': ['administrative_area_level_2',\n",
      "                                                'political']},\n",
      "                                     {'long_name': 'Texas',\n",
      "                                      'short_name': 'TX',\n",
      "                                      'types': ['administrative_area_level_1',\n",
      "                                                'political']},\n",
      "                                     {'long_name': 'United States',\n",
      "                                      'short_name': 'US',\n",
      "                                      'types': ['country', 'political']}],\n",
      "              'formatted_address': 'VX93+MX Mineral Wells, TX, USA',\n",
      "              'geometry': {'bounds': {'northeast': {'lat': 32.86925,\n",
      "                                                    'lng': -98.045},\n",
      "                                      'southwest': {'lat': 32.869125,\n",
      "                                                    'lng': -98.04512500000001}},\n",
      "                           'location': {'lat': 32.8691667, 'lng': -98.045},\n",
      "                           'location_type': 'ROOFTOP',\n",
      "                           'viewport': {'northeast': {'lat': 32.8705364802915,\n",
      "                                                      'lng': -98.0437135197085},\n",
      "                                        'southwest': {'lat': 32.8678385197085,\n",
      "                                                      'lng': -98.04641148029152}}},\n",
      "              'place_id': 'GhIJ2aK72kBvQEARexSuR-GCWMA',\n",
      "              'plus_code': {'compound_code': 'VX93+MX Mineral Wells, TX, USA',\n",
      "                            'global_code': '8643VX93+MX'},\n",
      "              'types': ['plus_code']}],\n",
      " 'status': 'OK'}\n"
     ]
    }
   ],
   "source": [
    "# Converting the response to JSON, and printing the result.\n",
    "data = response.json()\n",
    "pprint(data)"
   ]
  },
  {
   "cell_type": "code",
   "execution_count": 106,
   "metadata": {},
   "outputs": [],
   "source": [
    "def state_extract(obj):\n",
    "    stateval = \"\"\n",
    "    \n",
    "    for eachitem in obj:\n",
    "        for k, v in eachitem.items():\n",
    "            if k == \"long_name\":\n",
    "                stateval = v\n",
    "            elif isinstance(v, list):\n",
    "                for item in v:\n",
    "                    if item == \"administrative_area_level_1\":\n",
    "                        return stateval\n",
    "\n",
    "    return stateval"
   ]
  },
  {
   "cell_type": "code",
   "execution_count": 107,
   "metadata": {},
   "outputs": [
    {
     "name": "stdout",
     "output_type": "stream",
     "text": [
      "state name  Parker County\n",
      "1. Texas\n"
     ]
    }
   ],
   "source": [
    "# Print a few keys from the response JSON.\n",
    "listTypes = data.get('results')[0].get('address_components')[2].get('long_name')\n",
    "print(f\"state name \",listTypes)\n",
    "print(\"1.\",state_extract(data.get('results')[0].get('address_components')))"
   ]
  },
  {
   "cell_type": "code",
   "execution_count": 10,
   "metadata": {},
   "outputs": [
    {
     "ename": "KeyError",
     "evalue": "'Director'",
     "output_type": "error",
     "traceback": [
      "\u001b[1;31m---------------------------------------------------------------------------\u001b[0m",
      "\u001b[1;31mKeyError\u001b[0m                                  Traceback (most recent call last)",
      "\u001b[1;32m<ipython-input-10-9250bcf63325>\u001b[0m in \u001b[0;36m<module>\u001b[1;34m\u001b[0m\n\u001b[0;32m      1\u001b[0m \u001b[1;31m# Print a few keys from the response JSON.\u001b[0m\u001b[1;33m\u001b[0m\u001b[1;33m\u001b[0m\u001b[1;33m\u001b[0m\u001b[0m\n\u001b[1;32m----> 2\u001b[1;33m \u001b[0mprint\u001b[0m\u001b[1;33m(\u001b[0m\u001b[1;34mf\"Movie was directed by {data['Director']}.\"\u001b[0m\u001b[1;33m)\u001b[0m\u001b[1;33m\u001b[0m\u001b[1;33m\u001b[0m\u001b[0m\n\u001b[0m\u001b[0;32m      3\u001b[0m \u001b[0mprint\u001b[0m\u001b[1;33m(\u001b[0m\u001b[1;34mf\"Movie was released in {data['Country']}.\"\u001b[0m\u001b[1;33m)\u001b[0m\u001b[1;33m\u001b[0m\u001b[1;33m\u001b[0m\u001b[0m\n",
      "\u001b[1;31mKeyError\u001b[0m: 'Director'"
     ]
    }
   ],
   "source": [
    "# Print a few keys from the response JSON.\n",
    "print(f\"Movie was directed by {data['Director']}.\")\n",
    "print(f\"Movie was released in {data['Country']}.\")"
   ]
  },
  {
   "cell_type": "code",
   "execution_count": null,
   "metadata": {},
   "outputs": [],
   "source": []
  }
 ],
 "metadata": {
  "kernelspec": {
   "display_name": "Python 3",
   "language": "python",
   "name": "python3"
  },
  "language_info": {
   "codemirror_mode": {
    "name": "ipython",
    "version": 3
   },
   "file_extension": ".py",
   "mimetype": "text/x-python",
   "name": "python",
   "nbconvert_exporter": "python",
   "pygments_lexer": "ipython3",
   "version": "3.8.3"
  },
  "varInspector": {
   "cols": {
    "lenName": 16,
    "lenType": 16,
    "lenVar": 40
   },
   "kernels_config": {
    "python": {
     "delete_cmd_postfix": "",
     "delete_cmd_prefix": "del ",
     "library": "var_list.py",
     "varRefreshCmd": "print(var_dic_list())"
    },
    "r": {
     "delete_cmd_postfix": ") ",
     "delete_cmd_prefix": "rm(",
     "library": "var_list.r",
     "varRefreshCmd": "cat(var_dic_list()) "
    }
   },
   "types_to_exclude": [
    "module",
    "function",
    "builtin_function_or_method",
    "instance",
    "_Feature"
   ],
   "window_display": false
  }
 },
 "nbformat": 4,
 "nbformat_minor": 2
}
